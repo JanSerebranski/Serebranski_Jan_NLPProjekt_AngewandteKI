{
 "cells": [
  {
   "cell_type": "markdown",
   "id": "b584f3c6",
   "metadata": {},
   "source": [
    "# 01_eda.ipynb – Explorative Datenanalyse (EDA)\n",
    "\n",
    "**Ziel:** Überblick und Qualitätscheck der Amazon Reviews Daten für die Kategorien Automotive, Video_Games und Books.\n",
    "\n",
    "---\n",
    "\n"
   ]
  },
  {
   "cell_type": "markdown",
   "id": "c20324d2",
   "metadata": {},
   "source": [
    "## 1. Setup und Daten einlesen (Stichprobe)\n",
    "Wir lesen pro Kategorie nur die ersten 1 000 000 Zeilen ein, um Speicher zu sparen.\n",
    "\n"
   ]
  },
  {
   "cell_type": "code",
   "execution_count": 10,
   "id": "0834b08f",
   "metadata": {},
   "outputs": [
    {
     "name": "stdout",
     "output_type": "stream",
     "text": [
      "Automotive: 1000000 Einträge, Spalten: ['rating', 'title', 'text', 'images', 'asin', 'parent_asin', 'user_id', 'timestamp', 'helpful_vote', 'verified_purchase']\n",
      "Video_Games: 1000000 Einträge, Spalten: ['rating', 'title', 'text', 'images', 'asin', 'parent_asin', 'user_id', 'timestamp', 'helpful_vote', 'verified_purchase']\n",
      "Books: 1000000 Einträge, Spalten: ['rating', 'title', 'text', 'images', 'asin', 'parent_asin', 'user_id', 'timestamp', 'helpful_vote', 'verified_purchase']\n"
     ]
    }
   ],
   "source": [
    "import pandas as pd\n",
    "import json\n",
    "from pathlib import Path\n",
    "\n",
    "DATA_DIR = Path('../data/raw')\n",
    "CATEGORIES = ['Automotive', 'Video_Games', 'Books']\n",
    "dfs = {}\n",
    "N = 1000000        # so viele Zeilen pro Kategorie einlesen\n",
    "\n",
    "for cat in CATEGORIES:\n",
    "    data = []\n",
    "    with open(DATA_DIR / f'{cat}.jsonl', 'r', encoding='utf-8') as f:\n",
    "        for i, line in enumerate(f):\n",
    "            if i >= N:          # nach 1 000 000 Zeilen Schluss\n",
    "                break\n",
    "            data.append(json.loads(line))\n",
    "    df = pd.DataFrame(data)\n",
    "    dfs[cat] = df\n",
    "    print(f'{cat}: {df.shape[0]} Einträge, Spalten: {list(df.columns)}')\n",
    "\n"
   ]
  },
  {
   "cell_type": "markdown",
   "id": "60763487",
   "metadata": {},
   "source": [
    "## 2. Anzahl der Einträge pro Kategorie\n",
    "Wir prüfen, wie viele Rezensionen pro Kategorie vorliegen.\n"
   ]
  },
  {
   "cell_type": "code",
   "execution_count": 11,
   "id": "af987ac5",
   "metadata": {},
   "outputs": [
    {
     "name": "stdout",
     "output_type": "stream",
     "text": [
      "Automotive: 1000000 Rezensionen\n",
      "Video_Games: 1000000 Rezensionen\n",
      "Books: 1000000 Rezensionen\n"
     ]
    }
   ],
   "source": [
    "for cat, df in dfs.items():\n",
    "    print(f'{cat}: {len(df)} Rezensionen')\n"
   ]
  },
  {
   "cell_type": "markdown",
   "id": "502d85ee",
   "metadata": {},
   "source": [
    "## 3. Verteilung der Sternebewertungen (Labels)\n",
    "Wir analysieren, wie die Bewertungen (1–5 Sterne) verteilt sind.\n"
   ]
  },
  {
   "cell_type": "code",
   "execution_count": 12,
   "id": "ac44b12b",
   "metadata": {},
   "outputs": [
    {
     "name": "stdout",
     "output_type": "stream",
     "text": [
      "--- Automotive ---\n",
      "rating\n",
      "1.0     77368\n",
      "2.0     37808\n",
      "3.0     62439\n",
      "4.0    122296\n",
      "5.0    700089\n",
      "Name: count, dtype: int64\n",
      "\n",
      "--- Video_Games ---\n",
      "rating\n",
      "1.0     93823\n",
      "2.0     48940\n",
      "3.0     77460\n",
      "4.0    139600\n",
      "5.0    640177\n",
      "Name: count, dtype: int64\n",
      "\n",
      "--- Books ---\n",
      "rating\n",
      "0.0         4\n",
      "1.0     33952\n",
      "2.0     35812\n",
      "3.0     79114\n",
      "4.0    170464\n",
      "5.0    680654\n",
      "Name: count, dtype: int64\n",
      "\n"
     ]
    }
   ],
   "source": [
    "for cat, df in dfs.items():\n",
    "    print(f'--- {cat} ---')\n",
    "    print(df['rating'].value_counts().sort_index())\n",
    "    print()\n"
   ]
  },
  {
   "cell_type": "markdown",
   "id": "67eb66ca",
   "metadata": {},
   "source": [
    "## 4. Fehlende Werte prüfen\n",
    "Wir prüfen, ob es fehlende Werte in den wichtigsten Feldern gibt.\n"
   ]
  },
  {
   "cell_type": "code",
   "execution_count": null,
   "id": "87a9f96b",
   "metadata": {},
   "outputs": [
    {
     "name": "stdout",
     "output_type": "stream",
     "text": [
      "--- Automotive ---\n",
      "title     0\n",
      "text      0\n",
      "rating    0\n",
      "dtype: int64\n",
      "\n",
      "--- Video_Games ---\n",
      "title     0\n",
      "text      0\n",
      "rating    0\n",
      "dtype: int64\n",
      "\n",
      "--- Books ---\n",
      "title     0\n",
      "text      0\n",
      "rating    0\n",
      "dtype: int64\n",
      "\n"
     ]
    }
   ],
   "source": [
    "for cat, df in dfs.items():\n",
    "    print(f'--- {cat} ---')\n",
    "    print(df[['title', 'text', 'rating']].isnull().sum())\n",
    "    print()\n"
   ]
  },
  {
   "cell_type": "markdown",
   "id": "8f5466a7",
   "metadata": {},
   "source": [
    "## 5. Beispielhafte Rezensionen\n",
    "Wir zeigen zufällig ausgewählte Rezensionen (Titel & Text) pro Kategorie.\n"
   ]
  },
  {
   "cell_type": "code",
   "execution_count": 5,
   "id": "5702a28e",
   "metadata": {},
   "outputs": [
    {
     "name": "stdout",
     "output_type": "stream",
     "text": [
      "--- Automotive ---\n"
     ]
    },
    {
     "data": {
      "text/html": [
       "<div>\n",
       "<style scoped>\n",
       "    .dataframe tbody tr th:only-of-type {\n",
       "        vertical-align: middle;\n",
       "    }\n",
       "\n",
       "    .dataframe tbody tr th {\n",
       "        vertical-align: top;\n",
       "    }\n",
       "\n",
       "    .dataframe thead th {\n",
       "        text-align: right;\n",
       "    }\n",
       "</style>\n",
       "<table border=\"1\" class=\"dataframe\">\n",
       "  <thead>\n",
       "    <tr style=\"text-align: right;\">\n",
       "      <th></th>\n",
       "      <th>title</th>\n",
       "      <th>text</th>\n",
       "      <th>rating</th>\n",
       "    </tr>\n",
       "  </thead>\n",
       "  <tbody>\n",
       "    <tr>\n",
       "      <th>987231</th>\n",
       "      <td>Diesel additive</td>\n",
       "      <td>Don’t know yet truck seems a little smoother</td>\n",
       "      <td>4.0</td>\n",
       "    </tr>\n",
       "    <tr>\n",
       "      <th>79954</th>\n",
       "      <td>Great for our Prius</td>\n",
       "      <td>This fits our 2011 Prius perfectly. It matches...</td>\n",
       "      <td>5.0</td>\n",
       "    </tr>\n",
       "    <tr>\n",
       "      <th>567130</th>\n",
       "      <td>Economical, and they FIT</td>\n",
       "      <td>There are so many choices in windshield wipers...</td>\n",
       "      <td>5.0</td>\n",
       "    </tr>\n",
       "    <tr>\n",
       "      <th>500891</th>\n",
       "      <td>Obstructs your view</td>\n",
       "      <td>This product is a good idea but if you hang yo...</td>\n",
       "      <td>2.0</td>\n",
       "    </tr>\n",
       "    <tr>\n",
       "      <th>55399</th>\n",
       "      <td>It’s black</td>\n",
       "      <td>Worked well to seal a crack</td>\n",
       "      <td>5.0</td>\n",
       "    </tr>\n",
       "  </tbody>\n",
       "</table>\n",
       "</div>"
      ],
      "text/plain": [
       "                           title  \\\n",
       "987231           Diesel additive   \n",
       "79954        Great for our Prius   \n",
       "567130  Economical, and they FIT   \n",
       "500891       Obstructs your view   \n",
       "55399                 It’s black   \n",
       "\n",
       "                                                     text  rating  \n",
       "987231       Don’t know yet truck seems a little smoother     4.0  \n",
       "79954   This fits our 2011 Prius perfectly. It matches...     5.0  \n",
       "567130  There are so many choices in windshield wipers...     5.0  \n",
       "500891  This product is a good idea but if you hang yo...     2.0  \n",
       "55399                         Worked well to seal a crack     5.0  "
      ]
     },
     "metadata": {},
     "output_type": "display_data"
    },
    {
     "name": "stdout",
     "output_type": "stream",
     "text": [
      "--- Video_Games ---\n"
     ]
    },
    {
     "data": {
      "text/html": [
       "<div>\n",
       "<style scoped>\n",
       "    .dataframe tbody tr th:only-of-type {\n",
       "        vertical-align: middle;\n",
       "    }\n",
       "\n",
       "    .dataframe tbody tr th {\n",
       "        vertical-align: top;\n",
       "    }\n",
       "\n",
       "    .dataframe thead th {\n",
       "        text-align: right;\n",
       "    }\n",
       "</style>\n",
       "<table border=\"1\" class=\"dataframe\">\n",
       "  <thead>\n",
       "    <tr style=\"text-align: right;\">\n",
       "      <th></th>\n",
       "      <th>title</th>\n",
       "      <th>text</th>\n",
       "      <th>rating</th>\n",
       "    </tr>\n",
       "  </thead>\n",
       "  <tbody>\n",
       "    <tr>\n",
       "      <th>987231</th>\n",
       "      <td>Might not last</td>\n",
       "      <td>Left ear stopped working</td>\n",
       "      <td>4.0</td>\n",
       "    </tr>\n",
       "    <tr>\n",
       "      <th>79954</th>\n",
       "      <td>1 Step Forward, 1 Step Back</td>\n",
       "      <td>Go to Best Buy or some other electronics store...</td>\n",
       "      <td>3.0</td>\n",
       "    </tr>\n",
       "    <tr>\n",
       "      <th>567130</th>\n",
       "      <td>Five Stars</td>\n",
       "      <td>love it.</td>\n",
       "      <td>5.0</td>\n",
       "    </tr>\n",
       "    <tr>\n",
       "      <th>500891</th>\n",
       "      <td>Bad plastic</td>\n",
       "      <td>Snapped after a week of use</td>\n",
       "      <td>3.0</td>\n",
       "    </tr>\n",
       "    <tr>\n",
       "      <th>55399</th>\n",
       "      <td>Five Stars</td>\n",
       "      <td>Love it. Addictive, entertaining and challenging</td>\n",
       "      <td>5.0</td>\n",
       "    </tr>\n",
       "  </tbody>\n",
       "</table>\n",
       "</div>"
      ],
      "text/plain": [
       "                              title  \\\n",
       "987231               Might not last   \n",
       "79954   1 Step Forward, 1 Step Back   \n",
       "567130                   Five Stars   \n",
       "500891                  Bad plastic   \n",
       "55399                    Five Stars   \n",
       "\n",
       "                                                     text  rating  \n",
       "987231                           Left ear stopped working     4.0  \n",
       "79954   Go to Best Buy or some other electronics store...     3.0  \n",
       "567130                                           love it.     5.0  \n",
       "500891                        Snapped after a week of use     3.0  \n",
       "55399    Love it. Addictive, entertaining and challenging     5.0  "
      ]
     },
     "metadata": {},
     "output_type": "display_data"
    },
    {
     "name": "stdout",
     "output_type": "stream",
     "text": [
      "--- Books ---\n"
     ]
    },
    {
     "data": {
      "text/html": [
       "<div>\n",
       "<style scoped>\n",
       "    .dataframe tbody tr th:only-of-type {\n",
       "        vertical-align: middle;\n",
       "    }\n",
       "\n",
       "    .dataframe tbody tr th {\n",
       "        vertical-align: top;\n",
       "    }\n",
       "\n",
       "    .dataframe thead th {\n",
       "        text-align: right;\n",
       "    }\n",
       "</style>\n",
       "<table border=\"1\" class=\"dataframe\">\n",
       "  <thead>\n",
       "    <tr style=\"text-align: right;\">\n",
       "      <th></th>\n",
       "      <th>title</th>\n",
       "      <th>text</th>\n",
       "      <th>rating</th>\n",
       "    </tr>\n",
       "  </thead>\n",
       "  <tbody>\n",
       "    <tr>\n",
       "      <th>987231</th>\n",
       "      <td>Very great read</td>\n",
       "      <td>If you love any of the In Death series, this w...</td>\n",
       "      <td>5.0</td>\n",
       "    </tr>\n",
       "    <tr>\n",
       "      <th>79954</th>\n",
       "      <td>An Ad Pretending to be a Business Book</td>\n",
       "      <td>More a public relations puff piece than a busi...</td>\n",
       "      <td>3.0</td>\n",
       "    </tr>\n",
       "    <tr>\n",
       "      <th>567130</th>\n",
       "      <td>Great read for brothers</td>\n",
       "      <td>Great book for my grandsons.  They love it.</td>\n",
       "      <td>5.0</td>\n",
       "    </tr>\n",
       "    <tr>\n",
       "      <th>500891</th>\n",
       "      <td>Guide to the Best Bets at Favorite Chains</td>\n",
       "      <td>Whether you have a hankering for a juicy strip...</td>\n",
       "      <td>5.0</td>\n",
       "    </tr>\n",
       "    <tr>\n",
       "      <th>55399</th>\n",
       "      <td>Four Stars</td>\n",
       "      <td>enjoyable</td>\n",
       "      <td>4.0</td>\n",
       "    </tr>\n",
       "  </tbody>\n",
       "</table>\n",
       "</div>"
      ],
      "text/plain": [
       "                                            title  \\\n",
       "987231                            Very great read   \n",
       "79954      An Ad Pretending to be a Business Book   \n",
       "567130                    Great read for brothers   \n",
       "500891  Guide to the Best Bets at Favorite Chains   \n",
       "55399                                  Four Stars   \n",
       "\n",
       "                                                     text  rating  \n",
       "987231  If you love any of the In Death series, this w...     5.0  \n",
       "79954   More a public relations puff piece than a busi...     3.0  \n",
       "567130        Great book for my grandsons.  They love it.     5.0  \n",
       "500891  Whether you have a hankering for a juicy strip...     5.0  \n",
       "55399                                           enjoyable     4.0  "
      ]
     },
     "metadata": {},
     "output_type": "display_data"
    }
   ],
   "source": [
    "for cat, df in dfs.items():\n",
    "    print(f'--- {cat} ---')\n",
    "    display(df[['title', 'text', 'rating']].sample(5, random_state=42))\n"
   ]
  },
  {
   "cell_type": "markdown",
   "id": "7c8d5460",
   "metadata": {},
   "source": [
    "## 6. Statistiken zu Textlängen\n",
    "Wir analysieren die Länge der Rezensionstexte.\n"
   ]
  },
  {
   "cell_type": "code",
   "execution_count": 6,
   "id": "a5e54147",
   "metadata": {},
   "outputs": [
    {
     "name": "stdout",
     "output_type": "stream",
     "text": [
      "--- Automotive ---\n",
      "count    1000000.000000\n",
      "mean         181.748387\n",
      "std          276.136495\n",
      "min            0.000000\n",
      "25%           39.000000\n",
      "50%           98.000000\n",
      "75%          217.000000\n",
      "max        19982.000000\n",
      "Name: text_length, dtype: float64\n",
      "\n",
      "--- Video_Games ---\n",
      "count    1000000.000000\n",
      "mean         325.374404\n",
      "std          693.340170\n",
      "min            0.000000\n",
      "25%           44.000000\n",
      "50%          127.000000\n",
      "75%          316.000000\n",
      "max        32866.000000\n",
      "Name: text_length, dtype: float64\n",
      "\n",
      "--- Books ---\n",
      "count    1000000.000000\n",
      "mean         442.261393\n",
      "std          787.262362\n",
      "min            0.000000\n",
      "25%           63.000000\n",
      "50%          168.000000\n",
      "75%          460.000000\n",
      "max        31508.000000\n",
      "Name: text_length, dtype: float64\n",
      "\n"
     ]
    }
   ],
   "source": [
    "for cat, df in dfs.items():\n",
    "    df['text_length'] = df['text'].astype(str).str.len()\n",
    "    print(f'--- {cat} ---')\n",
    "    print(df['text_length'].describe())\n",
    "    print()\n"
   ]
  },
  {
   "cell_type": "markdown",
   "id": "87630687",
   "metadata": {},
   "source": [
    "## 7. Auffälligkeiten & Erkenntnisse\n",
    "Hier werden die wichtigsten Beobachtungen aus der Analyse dokumentiert.\n",
    "\n",
    "Kapitel 1:\n",
    "Automotive: 1000000 Einträge, Spalten: ['rating', 'title', 'text', 'images', 'asin', 'parent_asin', 'user_id', 'timestamp', 'helpful_vote', 'verified_purchase']\n",
    "Video_Games: 1000000 Einträge, Spalten: ['rating', 'title', 'text', 'images', 'asin', 'parent_asin', 'user_id', 'timestamp', 'helpful_vote', 'verified_purchase']\n",
    "Books: 1000000 Einträge, Spalten: ['rating', 'title', 'text', 'images', 'asin', 'parent_asin', 'user_id', 'timestamp', 'helpful_vote', 'verified_purchase']\n",
    "\n",
    "\n",
    "Kapitel 2:\n",
    "Automotive: 1000000 Rezensionen\n",
    "Video_Games: 1000000 Rezensionen\n",
    "Books: 1000000 Rezensionen\n",
    "\n",
    "Kapitel 3:\n",
    "--- Automotive ---\n",
    "rating\n",
    "1.0     77368\n",
    "2.0     37808\n",
    "3.0     62439\n",
    "4.0    122296\n",
    "5.0    700089\n",
    "Name: count, dtype: int64\n",
    "\n",
    "--- Video_Games ---\n",
    "rating\n",
    "1.0     93823\n",
    "2.0     48940\n",
    "3.0     77460\n",
    "4.0    139600\n",
    "5.0    640177\n",
    "Name: count, dtype: int64\n",
    "\n",
    "--- Books ---\n",
    "rating\n",
    "0.0         4\n",
    "1.0     33952\n",
    "2.0     35812\n",
    "3.0     79114\n",
    "4.0    170464\n",
    "5.0    680654\n",
    "Name: count, dtype: int64\n",
    "\n",
    "\n",
    "Kapitel 4:\n",
    "--- Automotive ---\n",
    "title     0\n",
    "text      0\n",
    "rating    0\n",
    "dtype: int64\n",
    "\n",
    "--- Video_Games ---\n",
    "title     0\n",
    "text      0\n",
    "rating    0\n",
    "dtype: int64\n",
    "\n",
    "--- Books ---\n",
    "title     0\n",
    "text      0\n",
    "rating    0\n",
    "dtype: int64\n",
    "\n",
    "Kapitel 5:\n",
    "sind nur Beispielrezensionen. Kannst du selber sehen im Notebook\n",
    "\n",
    "Kapitel 6:\n",
    "\n",
    "--- Automotive ---\n",
    "count    1000000.000000\n",
    "mean         181.748387\n",
    "std          276.136495\n",
    "min            0.000000\n",
    "25%           39.000000\n",
    "50%           98.000000\n",
    "75%          217.000000\n",
    "max        19982.000000\n",
    "Name: text_length, dtype: float64\n",
    "\n",
    "--- Video_Games ---\n",
    "count    1000000.000000\n",
    "mean         325.374404\n",
    "std          693.340170\n",
    "min            0.000000\n",
    "25%           44.000000\n",
    "50%          127.000000\n",
    "75%          316.000000\n",
    "max        32866.000000\n",
    "Name: text_length, dtype: float64\n",
    "\n",
    "--- Books ---\n",
    "count    1000000.000000\n",
    "mean         442.261393\n",
    "std          787.262362\n",
    "min            0.000000\n",
    "25%           63.000000\n",
    "50%          168.000000\n",
    "75%          460.000000\n",
    "max        31508.000000\n",
    "Name: text_length, dtype: float64\n",
    "\n",
    "\n",
    "\n",
    "\n"
   ]
  },
  {
   "cell_type": "markdown",
   "id": "606a9ce4",
   "metadata": {},
   "source": []
  }
 ],
 "metadata": {
  "kernelspec": {
   "display_name": "Python 3",
   "language": "python",
   "name": "python3"
  },
  "language_info": {
   "codemirror_mode": {
    "name": "ipython",
    "version": 3
   },
   "file_extension": ".py",
   "mimetype": "text/x-python",
   "name": "python",
   "nbconvert_exporter": "python",
   "pygments_lexer": "ipython3",
   "version": "3.12.5"
  }
 },
 "nbformat": 4,
 "nbformat_minor": 5
}
