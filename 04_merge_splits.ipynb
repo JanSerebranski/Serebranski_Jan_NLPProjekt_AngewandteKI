{
 "cells": [
  {
   "cell_type": "markdown",
   "id": "abc1b41a",
   "metadata": {},
   "source": [
    "# 04_merge_splits.ipynb – Zusammenführen der Splits zu einem Gesamtdatensatz\n",
    "\n",
    "**Ziel:** Die gesplitteten Datensätze (train, valid, test) aus allen Kategorien werden jeweils zusammengeführt, mit einer `category`-Spalte versehen und als `all_train.jsonl`, `all_valid.jsonl` und `all_test.jsonl` gespeichert.\n",
    "\n",
    "---\n"
   ]
  },
  {
   "cell_type": "markdown",
   "id": "cb358c3f",
   "metadata": {},
   "source": [
    "## 1. Laden und Zusammenführen der Splits\n",
    "Wir laden die Splits aus allen Kategorien, fügen sie zusammen und ergänzen die Kategorie-Spalte.\n"
   ]
  },
  {
   "cell_type": "code",
   "execution_count": 4,
   "id": "3ab42e4c",
   "metadata": {},
   "outputs": [
    {
     "name": "stdout",
     "output_type": "stream",
     "text": [
      "train: zusammengeführt und gespeichert unter ..\\data\\processed\\all_train.jsonl\n",
      "valid: zusammengeführt und gespeichert unter ..\\data\\processed\\all_valid.jsonl\n",
      "test: zusammengeführt und gespeichert unter ..\\data\\processed\\all_test.jsonl\n"
     ]
    }
   ],
   "source": [
    "from pathlib import Path\n",
    "import json\n",
    "\n",
    "SPLIT_DIR = Path('../data/processed')\n",
    "CATEGORIES = ['Automotive', 'Video_Games', 'Books']\n",
    "splits = ['train', 'valid', 'test']\n",
    "\n",
    "for split in splits:\n",
    "    out_path = SPLIT_DIR / f'all_{split}.jsonl'\n",
    "    # Zieldatei leeren bzw. neu anlegen\n",
    "    open(out_path, 'w').close()\n",
    "    for cat in CATEGORIES:\n",
    "        in_path = SPLIT_DIR / f'{cat}_{split}.jsonl'\n",
    "        with open(in_path, 'r', encoding='utf-8') as fin, open(out_path, 'a', encoding='utf-8') as fout:\n",
    "            for line in fin:\n",
    "                if line.strip():                      # leere Zeilen überspringen\n",
    "                    data = json.loads(line)\n",
    "                    data['category'] = cat           # Kategorie ergänzen\n",
    "                    fout.write(json.dumps(data, ensure_ascii=False) + '\\n')\n",
    "    print(f'{split}: zusammengeführt und gespeichert unter {out_path}')\n",
    "\n",
    "\n"
   ]
  },
  {
   "cell_type": "markdown",
   "id": "d93175ee",
   "metadata": {},
   "source": [
    "---\n",
    "**Ergebnis:** Im Ordner `data/processed/` liegen jetzt nur noch drei Gesamtdatensätze: `all_train.jsonl`, `all_valid.jsonl` und `all_test.jsonl`. Diese Dateien enthalten eine zusätzliche Spalte `category`, damit dein Modell weiß, aus welcher Produktgruppe jede Rezension stammt.\n"
   ]
  }
 ],
 "metadata": {
  "kernelspec": {
   "display_name": "Python 3",
   "language": "python",
   "name": "python3"
  },
  "language_info": {
   "codemirror_mode": {
    "name": "ipython",
    "version": 3
   },
   "file_extension": ".py",
   "mimetype": "text/x-python",
   "name": "python",
   "nbconvert_exporter": "python",
   "pygments_lexer": "ipython3",
   "version": "3.12.5"
  }
 },
 "nbformat": 4,
 "nbformat_minor": 5
}
